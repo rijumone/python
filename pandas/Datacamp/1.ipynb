{
 "cells": [
  {
   "cell_type": "code",
   "execution_count": 1,
   "metadata": {},
   "outputs": [
    {
     "name": "stderr",
     "output_type": "stream",
     "text": [
      "/Users/rijumone/Kitchen/python/env_mac/lib/python3.7/site-packages/pandas_datareader/compat/__init__.py:7: FutureWarning: pandas.util.testing is deprecated. Use the functions in the public API at pandas.testing instead.\n",
      "  from pandas.util.testing import assert_frame_equal\n"
     ]
    }
   ],
   "source": [
    "import pandas_datareader as pdr\n",
    "import datetime "
   ]
  },
  {
   "cell_type": "markdown",
   "metadata": {},
   "source": [
    "### Importing Financial Data Into Python"
   ]
  },
  {
   "cell_type": "code",
   "execution_count": 2,
   "metadata": {},
   "outputs": [],
   "source": [
    "aapl = pdr.get_data_yahoo(\n",
    "    'AAPL', \n",
    "     start=datetime.datetime(2006, 10, 1), \n",
    "     end=datetime.datetime(2012, 1, 1),\n",
    ")"
   ]
  },
  {
   "cell_type": "code",
   "execution_count": 3,
   "metadata": {},
   "outputs": [
    {
     "data": {
      "text/html": [
       "<div>\n",
       "<style scoped>\n",
       "    .dataframe tbody tr th:only-of-type {\n",
       "        vertical-align: middle;\n",
       "    }\n",
       "\n",
       "    .dataframe tbody tr th {\n",
       "        vertical-align: top;\n",
       "    }\n",
       "\n",
       "    .dataframe thead th {\n",
       "        text-align: right;\n",
       "    }\n",
       "</style>\n",
       "<table border=\"1\" class=\"dataframe\">\n",
       "  <thead>\n",
       "    <tr style=\"text-align: right;\">\n",
       "      <th></th>\n",
       "      <th>High</th>\n",
       "      <th>Low</th>\n",
       "      <th>Open</th>\n",
       "      <th>Close</th>\n",
       "      <th>Volume</th>\n",
       "      <th>Adj Close</th>\n",
       "    </tr>\n",
       "    <tr>\n",
       "      <th>Date</th>\n",
       "      <th></th>\n",
       "      <th></th>\n",
       "      <th></th>\n",
       "      <th></th>\n",
       "      <th></th>\n",
       "      <th></th>\n",
       "    </tr>\n",
       "  </thead>\n",
       "  <tbody>\n",
       "    <tr>\n",
       "      <th>2006-10-02</th>\n",
       "      <td>10.838572</td>\n",
       "      <td>10.614285</td>\n",
       "      <td>10.728572</td>\n",
       "      <td>10.694285</td>\n",
       "      <td>178159800</td>\n",
       "      <td>9.258014</td>\n",
       "    </tr>\n",
       "    <tr>\n",
       "      <th>2006-10-03</th>\n",
       "      <td>10.707143</td>\n",
       "      <td>10.455714</td>\n",
       "      <td>10.635715</td>\n",
       "      <td>10.582857</td>\n",
       "      <td>197677200</td>\n",
       "      <td>9.161551</td>\n",
       "    </tr>\n",
       "    <tr>\n",
       "      <th>2006-10-04</th>\n",
       "      <td>10.780000</td>\n",
       "      <td>10.451428</td>\n",
       "      <td>10.585714</td>\n",
       "      <td>10.768572</td>\n",
       "      <td>207270700</td>\n",
       "      <td>9.322326</td>\n",
       "    </tr>\n",
       "    <tr>\n",
       "      <th>2006-10-05</th>\n",
       "      <td>10.880000</td>\n",
       "      <td>10.590000</td>\n",
       "      <td>10.647142</td>\n",
       "      <td>10.690000</td>\n",
       "      <td>170970800</td>\n",
       "      <td>9.254304</td>\n",
       "    </tr>\n",
       "    <tr>\n",
       "      <th>2006-10-06</th>\n",
       "      <td>10.720000</td>\n",
       "      <td>10.544286</td>\n",
       "      <td>10.631429</td>\n",
       "      <td>10.602858</td>\n",
       "      <td>116739700</td>\n",
       "      <td>9.178867</td>\n",
       "    </tr>\n",
       "    <tr>\n",
       "      <th>...</th>\n",
       "      <td>...</td>\n",
       "      <td>...</td>\n",
       "      <td>...</td>\n",
       "      <td>...</td>\n",
       "      <td>...</td>\n",
       "      <td>...</td>\n",
       "    </tr>\n",
       "    <tr>\n",
       "      <th>2011-12-23</th>\n",
       "      <td>57.655716</td>\n",
       "      <td>57.070000</td>\n",
       "      <td>57.098572</td>\n",
       "      <td>57.618572</td>\n",
       "      <td>67349800</td>\n",
       "      <td>49.880241</td>\n",
       "    </tr>\n",
       "    <tr>\n",
       "      <th>2011-12-27</th>\n",
       "      <td>58.441429</td>\n",
       "      <td>57.574287</td>\n",
       "      <td>57.585712</td>\n",
       "      <td>58.075714</td>\n",
       "      <td>66269000</td>\n",
       "      <td>50.275993</td>\n",
       "    </tr>\n",
       "    <tr>\n",
       "      <th>2011-12-28</th>\n",
       "      <td>58.321430</td>\n",
       "      <td>57.334286</td>\n",
       "      <td>58.127144</td>\n",
       "      <td>57.520000</td>\n",
       "      <td>57165500</td>\n",
       "      <td>49.794914</td>\n",
       "    </tr>\n",
       "    <tr>\n",
       "      <th>2011-12-29</th>\n",
       "      <td>57.950001</td>\n",
       "      <td>57.215714</td>\n",
       "      <td>57.628571</td>\n",
       "      <td>57.874287</td>\n",
       "      <td>53994500</td>\n",
       "      <td>50.101627</td>\n",
       "    </tr>\n",
       "    <tr>\n",
       "      <th>2011-12-30</th>\n",
       "      <td>58.040001</td>\n",
       "      <td>57.641430</td>\n",
       "      <td>57.644287</td>\n",
       "      <td>57.857143</td>\n",
       "      <td>44915500</td>\n",
       "      <td>50.086784</td>\n",
       "    </tr>\n",
       "  </tbody>\n",
       "</table>\n",
       "<p>1323 rows × 6 columns</p>\n",
       "</div>"
      ],
      "text/plain": [
       "                 High        Low       Open      Close     Volume  Adj Close\n",
       "Date                                                                        \n",
       "2006-10-02  10.838572  10.614285  10.728572  10.694285  178159800   9.258014\n",
       "2006-10-03  10.707143  10.455714  10.635715  10.582857  197677200   9.161551\n",
       "2006-10-04  10.780000  10.451428  10.585714  10.768572  207270700   9.322326\n",
       "2006-10-05  10.880000  10.590000  10.647142  10.690000  170970800   9.254304\n",
       "2006-10-06  10.720000  10.544286  10.631429  10.602858  116739700   9.178867\n",
       "...               ...        ...        ...        ...        ...        ...\n",
       "2011-12-23  57.655716  57.070000  57.098572  57.618572   67349800  49.880241\n",
       "2011-12-27  58.441429  57.574287  57.585712  58.075714   66269000  50.275993\n",
       "2011-12-28  58.321430  57.334286  58.127144  57.520000   57165500  49.794914\n",
       "2011-12-29  57.950001  57.215714  57.628571  57.874287   53994500  50.101627\n",
       "2011-12-30  58.040001  57.641430  57.644287  57.857143   44915500  50.086784\n",
       "\n",
       "[1323 rows x 6 columns]"
      ]
     },
     "execution_count": 3,
     "metadata": {},
     "output_type": "execute_result"
    }
   ],
   "source": [
    "aapl"
   ]
  },
  {
   "cell_type": "code",
   "execution_count": 4,
   "metadata": {},
   "outputs": [],
   "source": [
    "import quandl"
   ]
  },
  {
   "cell_type": "code",
   "execution_count": 5,
   "metadata": {},
   "outputs": [
    {
     "data": {
      "text/plain": [
       "'\\naapl = quandl.get(\\n    \"WIKI/AAPL\",\\n    start_date=\"2006-10-01\",\\n    end_date=\"2012-01-01\",\\n)\\n'"
      ]
     },
     "execution_count": 5,
     "metadata": {},
     "output_type": "execute_result"
    }
   ],
   "source": [
    "'''\n",
    "aapl = quandl.get(\n",
    "    \"WIKI/AAPL\",\n",
    "    start_date=\"2006-10-01\",\n",
    "    end_date=\"2012-01-01\",\n",
    ")\n",
    "'''"
   ]
  },
  {
   "cell_type": "code",
   "execution_count": 6,
   "metadata": {},
   "outputs": [
    {
     "data": {
      "text/html": [
       "<div>\n",
       "<style scoped>\n",
       "    .dataframe tbody tr th:only-of-type {\n",
       "        vertical-align: middle;\n",
       "    }\n",
       "\n",
       "    .dataframe tbody tr th {\n",
       "        vertical-align: top;\n",
       "    }\n",
       "\n",
       "    .dataframe thead th {\n",
       "        text-align: right;\n",
       "    }\n",
       "</style>\n",
       "<table border=\"1\" class=\"dataframe\">\n",
       "  <thead>\n",
       "    <tr style=\"text-align: right;\">\n",
       "      <th></th>\n",
       "      <th>High</th>\n",
       "      <th>Low</th>\n",
       "      <th>Open</th>\n",
       "      <th>Close</th>\n",
       "      <th>Volume</th>\n",
       "      <th>Adj Close</th>\n",
       "    </tr>\n",
       "  </thead>\n",
       "  <tbody>\n",
       "    <tr>\n",
       "      <th>count</th>\n",
       "      <td>1323.000000</td>\n",
       "      <td>1323.000000</td>\n",
       "      <td>1323.000000</td>\n",
       "      <td>1323.000000</td>\n",
       "      <td>1.323000e+03</td>\n",
       "      <td>1323.000000</td>\n",
       "    </tr>\n",
       "    <tr>\n",
       "      <th>mean</th>\n",
       "      <td>29.237566</td>\n",
       "      <td>28.507684</td>\n",
       "      <td>28.901012</td>\n",
       "      <td>28.889151</td>\n",
       "      <td>1.882896e+08</td>\n",
       "      <td>25.009263</td>\n",
       "    </tr>\n",
       "    <tr>\n",
       "      <th>std</th>\n",
       "      <td>14.199012</td>\n",
       "      <td>14.029758</td>\n",
       "      <td>14.123131</td>\n",
       "      <td>14.119734</td>\n",
       "      <td>1.027007e+08</td>\n",
       "      <td>12.223417</td>\n",
       "    </tr>\n",
       "    <tr>\n",
       "      <th>min</th>\n",
       "      <td>10.568571</td>\n",
       "      <td>10.371428</td>\n",
       "      <td>10.488571</td>\n",
       "      <td>10.461429</td>\n",
       "      <td>3.937360e+07</td>\n",
       "      <td>9.056430</td>\n",
       "    </tr>\n",
       "    <tr>\n",
       "      <th>25%</th>\n",
       "      <td>17.752857</td>\n",
       "      <td>17.182143</td>\n",
       "      <td>17.457857</td>\n",
       "      <td>17.431429</td>\n",
       "      <td>1.122037e+08</td>\n",
       "      <td>15.090342</td>\n",
       "    </tr>\n",
       "    <tr>\n",
       "      <th>50%</th>\n",
       "      <td>25.642857</td>\n",
       "      <td>24.725714</td>\n",
       "      <td>25.260000</td>\n",
       "      <td>25.120001</td>\n",
       "      <td>1.629866e+08</td>\n",
       "      <td>21.746317</td>\n",
       "    </tr>\n",
       "    <tr>\n",
       "      <th>75%</th>\n",
       "      <td>39.132858</td>\n",
       "      <td>38.351429</td>\n",
       "      <td>38.777143</td>\n",
       "      <td>38.699999</td>\n",
       "      <td>2.316230e+08</td>\n",
       "      <td>33.502491</td>\n",
       "    </tr>\n",
       "    <tr>\n",
       "      <th>max</th>\n",
       "      <td>60.957142</td>\n",
       "      <td>59.427143</td>\n",
       "      <td>60.251427</td>\n",
       "      <td>60.320000</td>\n",
       "      <td>8.432424e+08</td>\n",
       "      <td>52.218872</td>\n",
       "    </tr>\n",
       "  </tbody>\n",
       "</table>\n",
       "</div>"
      ],
      "text/plain": [
       "              High          Low         Open        Close        Volume  \\\n",
       "count  1323.000000  1323.000000  1323.000000  1323.000000  1.323000e+03   \n",
       "mean     29.237566    28.507684    28.901012    28.889151  1.882896e+08   \n",
       "std      14.199012    14.029758    14.123131    14.119734  1.027007e+08   \n",
       "min      10.568571    10.371428    10.488571    10.461429  3.937360e+07   \n",
       "25%      17.752857    17.182143    17.457857    17.431429  1.122037e+08   \n",
       "50%      25.642857    24.725714    25.260000    25.120001  1.629866e+08   \n",
       "75%      39.132858    38.351429    38.777143    38.699999  2.316230e+08   \n",
       "max      60.957142    59.427143    60.251427    60.320000  8.432424e+08   \n",
       "\n",
       "         Adj Close  \n",
       "count  1323.000000  \n",
       "mean     25.009263  \n",
       "std      12.223417  \n",
       "min       9.056430  \n",
       "25%      15.090342  \n",
       "50%      21.746317  \n",
       "75%      33.502491  \n",
       "max      52.218872  "
      ]
     },
     "execution_count": 6,
     "metadata": {},
     "output_type": "execute_result"
    }
   ],
   "source": [
    "aapl.describe()"
   ]
  },
  {
   "cell_type": "markdown",
   "metadata": {},
   "source": [
    "### Working With Time Series Data"
   ]
  },
  {
   "cell_type": "markdown",
   "metadata": {},
   "source": [
    "- Volume: the number of shares that got traded during a single day\n",
    "- Adj Close: the closing price of the day that has been slightly adapted to include any actions that occurred at any time before the next day’s open"
   ]
  },
  {
   "cell_type": "code",
   "execution_count": 7,
   "metadata": {},
   "outputs": [],
   "source": [
    "import matplotlib.pyplot as plt"
   ]
  },
  {
   "cell_type": "code",
   "execution_count": 8,
   "metadata": {},
   "outputs": [
    {
     "data": {
      "text/plain": [
       "<matplotlib.axes._subplots.AxesSubplot at 0x113dd5e50>"
      ]
     },
     "execution_count": 8,
     "metadata": {},
     "output_type": "execute_result"
    },
    {
     "data": {
      "image/png": "[encoded data removed]",
      "text/plain": [
       "<Figure size 432x288 with 1 Axes>"
      ]
     },
     "metadata": {
      "needs_background": "light"
     },
     "output_type": "display_data"
    }
   ],
   "source": [
    "aapl['Open'].plot(grid=True)"
   ]
  },
  {
   "cell_type": "code",
   "execution_count": 9,
   "metadata": {},
   "outputs": [
    {
     "data": {
      "text/plain": [
       "DatetimeIndex(['2006-10-02', '2006-10-03', '2006-10-04', '2006-10-05',\n",
       "               '2006-10-06', '2006-10-09', '2006-10-10', '2006-10-11',\n",
       "               '2006-10-12', '2006-10-13',\n",
       "               ...\n",
       "               '2011-12-16', '2011-12-19', '2011-12-20', '2011-12-21',\n",
       "               '2011-12-22', '2011-12-23', '2011-12-27', '2011-12-28',\n",
       "               '2011-12-29', '2011-12-30'],\n",
       "              dtype='datetime64[ns]', name='Date', length=1323, freq=None)"
      ]
     },
     "execution_count": 9,
     "metadata": {},
     "output_type": "execute_result"
    }
   ],
   "source": [
    "aapl.index"
   ]
  },
  {
   "cell_type": "code",
   "execution_count": 10,
   "metadata": {},
   "outputs": [
    {
     "data": {
      "text/plain": [
       "Index(['High', 'Low', 'Open', 'Close', 'Volume', 'Adj Close'], dtype='object')"
      ]
     },
     "execution_count": 10,
     "metadata": {},
     "output_type": "execute_result"
    }
   ],
   "source": [
    "aapl.columns"
   ]
  },
  {
   "cell_type": "code",
   "execution_count": 11,
   "metadata": {},
   "outputs": [],
   "source": [
    "ts = aapl['Close'][-10:]"
   ]
  },
  {
   "cell_type": "code",
   "execution_count": 12,
   "metadata": {},
   "outputs": [
    {
     "data": {
      "text/plain": [
       "Date\n",
       "2011-12-16    54.431427\n",
       "2011-12-19    54.601429\n",
       "2011-12-20    56.564285\n",
       "2011-12-21    56.635715\n",
       "2011-12-22    56.935715\n",
       "2011-12-23    57.618572\n",
       "2011-12-27    58.075714\n",
       "2011-12-28    57.520000\n",
       "2011-12-29    57.874287\n",
       "2011-12-30    57.857143\n",
       "Name: Close, dtype: float64"
      ]
     },
     "execution_count": 12,
     "metadata": {},
     "output_type": "execute_result"
    }
   ],
   "source": [
    "ts"
   ]
  },
  {
   "cell_type": "code",
   "execution_count": 13,
   "metadata": {},
   "outputs": [],
   "source": [
    "sample = aapl.sample(20)"
   ]
  },
  {
   "cell_type": "markdown",
   "metadata": {},
   "source": [
    "Resampling is just group by"
   ]
  },
  {
   "cell_type": "code",
   "execution_count": 14,
   "metadata": {},
   "outputs": [],
   "source": [
    "monthly_aapl = aapl.resample('M').mean()"
   ]
  },
  {
   "cell_type": "code",
   "execution_count": 15,
   "metadata": {},
   "outputs": [
    {
     "data": {
      "text/html": [
       "<div>\n",
       "<style scoped>\n",
       "    .dataframe tbody tr th:only-of-type {\n",
       "        vertical-align: middle;\n",
       "    }\n",
       "\n",
       "    .dataframe tbody tr th {\n",
       "        vertical-align: top;\n",
       "    }\n",
       "\n",
       "    .dataframe thead th {\n",
       "        text-align: right;\n",
       "    }\n",
       "</style>\n",
       "<table border=\"1\" class=\"dataframe\">\n",
       "  <thead>\n",
       "    <tr style=\"text-align: right;\">\n",
       "      <th></th>\n",
       "      <th>High</th>\n",
       "      <th>Low</th>\n",
       "      <th>Open</th>\n",
       "      <th>Close</th>\n",
       "      <th>Volume</th>\n",
       "      <th>Adj Close</th>\n",
       "    </tr>\n",
       "    <tr>\n",
       "      <th>Date</th>\n",
       "      <th></th>\n",
       "      <th></th>\n",
       "      <th></th>\n",
       "      <th></th>\n",
       "      <th></th>\n",
       "      <th></th>\n",
       "    </tr>\n",
       "  </thead>\n",
       "  <tbody>\n",
       "    <tr>\n",
       "      <th>2006-10-31</th>\n",
       "      <td>11.123766</td>\n",
       "      <td>10.893117</td>\n",
       "      <td>11.002922</td>\n",
       "      <td>11.017987</td>\n",
       "      <td>1.634995e+08</td>\n",
       "      <td>9.538242</td>\n",
       "    </tr>\n",
       "    <tr>\n",
       "      <th>2006-11-30</th>\n",
       "      <td>12.314626</td>\n",
       "      <td>12.028980</td>\n",
       "      <td>12.161565</td>\n",
       "      <td>12.192109</td>\n",
       "      <td>1.647010e+08</td>\n",
       "      <td>10.554677</td>\n",
       "    </tr>\n",
       "    <tr>\n",
       "      <th>2006-12-31</th>\n",
       "      <td>12.546500</td>\n",
       "      <td>12.205571</td>\n",
       "      <td>12.415857</td>\n",
       "      <td>12.353071</td>\n",
       "      <td>2.111349e+08</td>\n",
       "      <td>10.694023</td>\n",
       "    </tr>\n",
       "    <tr>\n",
       "      <th>2007-01-31</th>\n",
       "      <td>12.880857</td>\n",
       "      <td>12.522572</td>\n",
       "      <td>12.722357</td>\n",
       "      <td>12.697357</td>\n",
       "      <td>3.401223e+08</td>\n",
       "      <td>10.992069</td>\n",
       "    </tr>\n",
       "    <tr>\n",
       "      <th>2007-02-28</th>\n",
       "      <td>12.382932</td>\n",
       "      <td>12.111804</td>\n",
       "      <td>12.252105</td>\n",
       "      <td>12.246842</td>\n",
       "      <td>1.805573e+08</td>\n",
       "      <td>10.602059</td>\n",
       "    </tr>\n",
       "    <tr>\n",
       "      <th>...</th>\n",
       "      <td>...</td>\n",
       "      <td>...</td>\n",
       "      <td>...</td>\n",
       "      <td>...</td>\n",
       "      <td>...</td>\n",
       "      <td>...</td>\n",
       "    </tr>\n",
       "    <tr>\n",
       "      <th>2011-08-31</th>\n",
       "      <td>54.550000</td>\n",
       "      <td>53.021304</td>\n",
       "      <td>53.894347</td>\n",
       "      <td>53.823230</td>\n",
       "      <td>1.754630e+08</td>\n",
       "      <td>46.594630</td>\n",
       "    </tr>\n",
       "    <tr>\n",
       "      <th>2011-09-30</th>\n",
       "      <td>56.745918</td>\n",
       "      <td>55.438096</td>\n",
       "      <td>56.054217</td>\n",
       "      <td>56.070476</td>\n",
       "      <td>1.425887e+08</td>\n",
       "      <td>48.540065</td>\n",
       "    </tr>\n",
       "    <tr>\n",
       "      <th>2011-10-31</th>\n",
       "      <td>57.402380</td>\n",
       "      <td>55.932245</td>\n",
       "      <td>56.677687</td>\n",
       "      <td>56.747143</td>\n",
       "      <td>1.564456e+08</td>\n",
       "      <td>49.125855</td>\n",
       "    </tr>\n",
       "    <tr>\n",
       "      <th>2011-11-30</th>\n",
       "      <td>55.554218</td>\n",
       "      <td>54.526599</td>\n",
       "      <td>55.181157</td>\n",
       "      <td>54.973606</td>\n",
       "      <td>1.067107e+08</td>\n",
       "      <td>47.590506</td>\n",
       "    </tr>\n",
       "    <tr>\n",
       "      <th>2011-12-31</th>\n",
       "      <td>56.523537</td>\n",
       "      <td>55.734217</td>\n",
       "      <td>56.110068</td>\n",
       "      <td>56.132925</td>\n",
       "      <td>7.507777e+07</td>\n",
       "      <td>48.594130</td>\n",
       "    </tr>\n",
       "  </tbody>\n",
       "</table>\n",
       "<p>63 rows × 6 columns</p>\n",
       "</div>"
      ],
      "text/plain": [
       "                 High        Low       Open      Close        Volume  \\\n",
       "Date                                                                   \n",
       "2006-10-31  11.123766  10.893117  11.002922  11.017987  1.634995e+08   \n",
       "2006-11-30  12.314626  12.028980  12.161565  12.192109  1.647010e+08   \n",
       "2006-12-31  12.546500  12.205571  12.415857  12.353071  2.111349e+08   \n",
       "2007-01-31  12.880857  12.522572  12.722357  12.697357  3.401223e+08   \n",
       "2007-02-28  12.382932  12.111804  12.252105  12.246842  1.805573e+08   \n",
       "...               ...        ...        ...        ...           ...   \n",
       "2011-08-31  54.550000  53.021304  53.894347  53.823230  1.754630e+08   \n",
       "2011-09-30  56.745918  55.438096  56.054217  56.070476  1.425887e+08   \n",
       "2011-10-31  57.402380  55.932245  56.677687  56.747143  1.564456e+08   \n",
       "2011-11-30  55.554218  54.526599  55.181157  54.973606  1.067107e+08   \n",
       "2011-12-31  56.523537  55.734217  56.110068  56.132925  7.507777e+07   \n",
       "\n",
       "            Adj Close  \n",
       "Date                   \n",
       "2006-10-31   9.538242  \n",
       "2006-11-30  10.554677  \n",
       "2006-12-31  10.694023  \n",
       "2007-01-31  10.992069  \n",
       "2007-02-28  10.602059  \n",
       "...               ...  \n",
       "2011-08-31  46.594630  \n",
       "2011-09-30  48.540065  \n",
       "2011-10-31  49.125855  \n",
       "2011-11-30  47.590506  \n",
       "2011-12-31  48.594130  \n",
       "\n",
       "[63 rows x 6 columns]"
      ]
     },
     "execution_count": 15,
     "metadata": {},
     "output_type": "execute_result"
    }
   ],
   "source": [
    "monthly_aapl"
   ]
  },
  {
   "cell_type": "code",
   "execution_count": 16,
   "metadata": {},
   "outputs": [],
   "source": [
    "aapl['diff'] = aapl.Open - aapl.Close"
   ]
  },
  {
   "cell_type": "markdown",
   "metadata": {},
   "source": [
    "### Common Financial Analysis"
   ]
  },
  {
   "cell_type": "markdown",
   "metadata": {},
   "source": [
    "- returns\n",
    "- moving windows\n",
    "- volatilty calculation\n",
    "- Ordinary Least-Squares Regression (OLS)"
   ]
  },
  {
   "cell_type": "code",
   "execution_count": 17,
   "metadata": {},
   "outputs": [],
   "source": [
    "import numpy as np\n",
    "daily_close = aapl[['Adj Close']]\n",
    "daily_pct_change = daily_close.pct_change()\n",
    "daily_pct_change.fillna(0, inplace=True)\n",
    "# mathematical function to calculate \n",
    "# Natural logarithm of daily_close \n",
    "# where daily_close belongs to \n",
    "# all the input array elements.\n",
    "daily_log_returns = np.log(daily_close.pct_change() + 1)"
   ]
  },
  {
   "cell_type": "code",
   "execution_count": 18,
   "metadata": {},
   "outputs": [
    {
     "data": {
      "text/html": [
       "<div>\n",
       "<style scoped>\n",
       "    .dataframe tbody tr th:only-of-type {\n",
       "        vertical-align: middle;\n",
       "    }\n",
       "\n",
       "    .dataframe tbody tr th {\n",
       "        vertical-align: top;\n",
       "    }\n",
       "\n",
       "    .dataframe thead th {\n",
       "        text-align: right;\n",
       "    }\n",
       "</style>\n",
       "<table border=\"1\" class=\"dataframe\">\n",
       "  <thead>\n",
       "    <tr style=\"text-align: right;\">\n",
       "      <th></th>\n",
       "      <th>Adj Close</th>\n",
       "    </tr>\n",
       "    <tr>\n",
       "      <th>Date</th>\n",
       "      <th></th>\n",
       "    </tr>\n",
       "  </thead>\n",
       "  <tbody>\n",
       "    <tr>\n",
       "      <th>2006-10-02</th>\n",
       "      <td>NaN</td>\n",
       "    </tr>\n",
       "    <tr>\n",
       "      <th>2006-10-03</th>\n",
       "      <td>-0.010474</td>\n",
       "    </tr>\n",
       "    <tr>\n",
       "      <th>2006-10-04</th>\n",
       "      <td>0.017397</td>\n",
       "    </tr>\n",
       "    <tr>\n",
       "      <th>2006-10-05</th>\n",
       "      <td>-0.007323</td>\n",
       "    </tr>\n",
       "    <tr>\n",
       "      <th>2006-10-06</th>\n",
       "      <td>-0.008185</td>\n",
       "    </tr>\n",
       "    <tr>\n",
       "      <th>...</th>\n",
       "      <td>...</td>\n",
       "    </tr>\n",
       "    <tr>\n",
       "      <th>2011-12-23</th>\n",
       "      <td>0.011922</td>\n",
       "    </tr>\n",
       "    <tr>\n",
       "      <th>2011-12-27</th>\n",
       "      <td>0.007903</td>\n",
       "    </tr>\n",
       "    <tr>\n",
       "      <th>2011-12-28</th>\n",
       "      <td>-0.009615</td>\n",
       "    </tr>\n",
       "    <tr>\n",
       "      <th>2011-12-29</th>\n",
       "      <td>0.006141</td>\n",
       "    </tr>\n",
       "    <tr>\n",
       "      <th>2011-12-30</th>\n",
       "      <td>-0.000296</td>\n",
       "    </tr>\n",
       "  </tbody>\n",
       "</table>\n",
       "<p>1323 rows × 1 columns</p>\n",
       "</div>"
      ],
      "text/plain": [
       "            Adj Close\n",
       "Date                 \n",
       "2006-10-02        NaN\n",
       "2006-10-03  -0.010474\n",
       "2006-10-04   0.017397\n",
       "2006-10-05  -0.007323\n",
       "2006-10-06  -0.008185\n",
       "...               ...\n",
       "2011-12-23   0.011922\n",
       "2011-12-27   0.007903\n",
       "2011-12-28  -0.009615\n",
       "2011-12-29   0.006141\n",
       "2011-12-30  -0.000296\n",
       "\n",
       "[1323 rows x 1 columns]"
      ]
     },
     "execution_count": 18,
     "metadata": {},
     "output_type": "execute_result"
    }
   ],
   "source": [
    "daily_log_returns"
   ]
  },
  {
   "cell_type": "code",
   "execution_count": 19,
   "metadata": {},
   "outputs": [
    {
     "data": {
      "text/html": [
       "<div>\n",
       "<style scoped>\n",
       "    .dataframe tbody tr th:only-of-type {\n",
       "        vertical-align: middle;\n",
       "    }\n",
       "\n",
       "    .dataframe tbody tr th {\n",
       "        vertical-align: top;\n",
       "    }\n",
       "\n",
       "    .dataframe thead th {\n",
       "        text-align: right;\n",
       "    }\n",
       "</style>\n",
       "<table border=\"1\" class=\"dataframe\">\n",
       "  <thead>\n",
       "    <tr style=\"text-align: right;\">\n",
       "      <th></th>\n",
       "      <th>Adj Close</th>\n",
       "    </tr>\n",
       "    <tr>\n",
       "      <th>Date</th>\n",
       "      <th></th>\n",
       "    </tr>\n",
       "  </thead>\n",
       "  <tbody>\n",
       "    <tr>\n",
       "      <th>2006-10-02</th>\n",
       "      <td>0.000000</td>\n",
       "    </tr>\n",
       "    <tr>\n",
       "      <th>2006-10-03</th>\n",
       "      <td>-0.010419</td>\n",
       "    </tr>\n",
       "    <tr>\n",
       "      <th>2006-10-04</th>\n",
       "      <td>0.017549</td>\n",
       "    </tr>\n",
       "    <tr>\n",
       "      <th>2006-10-05</th>\n",
       "      <td>-0.007297</td>\n",
       "    </tr>\n",
       "    <tr>\n",
       "      <th>2006-10-06</th>\n",
       "      <td>-0.008152</td>\n",
       "    </tr>\n",
       "    <tr>\n",
       "      <th>...</th>\n",
       "      <td>...</td>\n",
       "    </tr>\n",
       "    <tr>\n",
       "      <th>2011-12-23</th>\n",
       "      <td>0.011993</td>\n",
       "    </tr>\n",
       "    <tr>\n",
       "      <th>2011-12-27</th>\n",
       "      <td>0.007934</td>\n",
       "    </tr>\n",
       "    <tr>\n",
       "      <th>2011-12-28</th>\n",
       "      <td>-0.009569</td>\n",
       "    </tr>\n",
       "    <tr>\n",
       "      <th>2011-12-29</th>\n",
       "      <td>0.006160</td>\n",
       "    </tr>\n",
       "    <tr>\n",
       "      <th>2011-12-30</th>\n",
       "      <td>-0.000296</td>\n",
       "    </tr>\n",
       "  </tbody>\n",
       "</table>\n",
       "<p>1323 rows × 1 columns</p>\n",
       "</div>"
      ],
      "text/plain": [
       "            Adj Close\n",
       "Date                 \n",
       "2006-10-02   0.000000\n",
       "2006-10-03  -0.010419\n",
       "2006-10-04   0.017549\n",
       "2006-10-05  -0.007297\n",
       "2006-10-06  -0.008152\n",
       "...               ...\n",
       "2011-12-23   0.011993\n",
       "2011-12-27   0.007934\n",
       "2011-12-28  -0.009569\n",
       "2011-12-29   0.006160\n",
       "2011-12-30  -0.000296\n",
       "\n",
       "[1323 rows x 1 columns]"
      ]
     },
     "execution_count": 19,
     "metadata": {},
     "output_type": "execute_result"
    }
   ],
   "source": [
    "daily_pct_change"
   ]
  },
  {
   "cell_type": "code",
   "execution_count": null,
   "metadata": {},
   "outputs": [],
   "source": []
  }
 ],
 "metadata": {
  "kernelspec": {
   "display_name": "Python 3",
   "language": "python",
   "name": "python3"
  },
  "language_info": {
   "codemirror_mode": {
    "name": "ipython",
    "version": 3
   },
   "file_extension": ".py",
   "mimetype": "text/x-python",
   "name": "python",
   "nbconvert_exporter": "python",
   "pygments_lexer": "ipython3",
   "version": "3.7.5"
  }
 },
 "nbformat": 4,
 "nbformat_minor": 4
}
